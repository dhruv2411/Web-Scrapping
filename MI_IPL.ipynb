{
 "cells": [
  {
   "cell_type": "markdown",
   "id": "39e37d4e",
   "metadata": {},
   "source": [
    "**Web Scrapping of ESPN Cricinfo**"
   ]
  },
  {
   "cell_type": "markdown",
   "id": "0d90518c",
   "metadata": {},
   "source": [
    "This Notebook shows simplest way to scrape data from ESPN cricinfo website. \n",
    "https://www.espncricinfo.com/"
   ]
  },
  {
   "cell_type": "markdown",
   "id": "d468f17b",
   "metadata": {},
   "source": [
    "By using this script we can scrape data of any teams on this website.\n",
    "It is not limited for IPL teams but we can scrape the data of any other tournament(Big Bash, T20 Blast, etc.) and thier teams.\n",
    "Mumbai Indians, Chennai Super Kings, Kolkata Knight Riders, Lucknow Super Giants, Delhi Capitals, Royal Challengers Bangalore, Rajasthan Royals, Sunrisers Hyderabad, Punjab Kings, Gujarat Titans, etc."
   ]
  },
  {
   "cell_type": "markdown",
   "id": "85eddeab",
   "metadata": {},
   "source": [
    "Mumbai Indians squad runs for IPL 2022 season"
   ]
  },
  {
   "cell_type": "code",
   "execution_count": 1,
   "id": "6ab7692f",
   "metadata": {},
   "outputs": [],
   "source": [
    "# Importing libraries\n",
    "import requests\n",
    "from bs4 import BeautifulSoup\n",
    "import pandas as pd\n",
    "import re\n",
    "import datetime"
   ]
  },
  {
   "cell_type": "code",
   "execution_count": 2,
   "id": "ec455a54",
   "metadata": {},
   "outputs": [
    {
     "name": "stdout",
     "output_type": "stream",
     "text": [
      "<Response [200]>\n"
     ]
    }
   ],
   "source": [
    "header = {'User-Agent': 'Mozilla/5.0 (Macintosh; Intel Mac OS X 10_11_5) AppleWebKit/537.36 (KHTML, like Gecko) Chrome/50.0.2661.102 Safari/537.36'}\n",
    "page = requests.get(\"https://stats.espncricinfo.com/ci/engine/records/averages/batting_bowling_by_team.html?id=14452;team=4346;type=tournament\",headers=header)\n",
    "print(page) #Response 200 means page is successfully connected"
   ]
  },
  {
   "cell_type": "code",
   "execution_count": 3,
   "id": "88529835",
   "metadata": {},
   "outputs": [],
   "source": [
    "soup = BeautifulSoup(page.text, 'html.parser')\n",
    "tab = soup.find('table', class_ = 'engineTable') #Finding table named as 'engineTable'"
   ]
  },
  {
   "cell_type": "code",
   "execution_count": 4,
   "id": "73355163",
   "metadata": {},
   "outputs": [],
   "source": [
    "# Creating a lists \n",
    "player=[]\n",
    "mat=[]\n",
    "inns=[]\n",
    "notout=[]\n",
    "runs=[]\n",
    "hs=[]\n",
    "ave=[]\n",
    "bf=[]\n",
    "sr=[]\n",
    "hun=[]\n",
    "fifty=[]\n",
    "zero=[]\n",
    "four=[]\n",
    "six=[]"
   ]
  },
  {
   "cell_type": "code",
   "execution_count": 5,
   "id": "855c4698",
   "metadata": {},
   "outputs": [],
   "source": [
    "# Finding data using tab named 'tbody'\n",
    "\n",
    "for i in tab.find_all('tbody'):\t\t#to derive data from <tbody> to </tbody>\n",
    "    rows = i.find_all('tr')\n",
    "    for row in rows:\n",
    "        player.append(row.find_all('td')[0].text) #Getting Player name\n",
    "        mat.append(row.find_all('td')[1].text) #Getting total matches\n",
    "        inns.append(row.find_all('td')[2].text) #Getting total innings \n",
    "        notout.append(row.find_all('td')[3].text) #Getting total not out\n",
    "        runs.append(row.find_all('td')[4].text) #Getting total runs in the tournament\n",
    "        hs.append(row.find_all('td')[5].text) #Getting High Score\n",
    "        ave.append(row.find_all('td')[6].text) #Getting Average\n",
    "        bf.append(row.find_all('td')[7].text) #Getting total Ball Faced\n",
    "        sr.append(row.find_all('td')[8].text) #Getting Strike Rate\n",
    "        hun.append(row.find_all('td')[9].text) #Getting total hundred\n",
    "        fifty.append(row.find_all('td')[10].text) #Getting total fifty\n",
    "        zero.append(row.find_all('td')[11].text) #Getting total Zeroes\n",
    "        four.append(row.find_all('td')[12].text) #Getting total Fours\n",
    "        six.append(row.find_all('td')[13].text) #Getting total sixes"
   ]
  },
  {
   "cell_type": "code",
   "execution_count": 6,
   "id": "41fb8aa2",
   "metadata": {},
   "outputs": [],
   "source": [
    "# Storing data in dataframe\n",
    "df = pd.DataFrame({'Player':player,'Matches':mat,'Innings':inns,'Notout':notout,'Runs':runs,'High Score':hs,\n",
    "                   'Average':ave,'Ball Faced':bf, 'Strike Rate':sr,'Hundred':hun,'Fifty':fifty,\n",
    "                   'Zero':zero,'Four':four,'Sixes':six}) "
   ]
  },
  {
   "cell_type": "code",
   "execution_count": 7,
   "id": "b45fb20b",
   "metadata": {},
   "outputs": [
    {
     "name": "stdout",
     "output_type": "stream",
     "text": [
      "              Player Matches Innings Notout Runs High Score Average  \\\n",
      "0           SA Yadav       8       8      1  303        68*   43.28   \n",
      "1           TH David       8       8      3  186         46   37.20   \n",
      "2     NT Tilak Varma      14      14      3  397         61   36.09   \n",
      "3       Ishan Kishan      14      14      1  418        81*   32.15   \n",
      "4           D Brevis       7       7      0  161         49   23.00   \n",
      "5    Ramandeep Singh       5       4      2   45        14*   22.50   \n",
      "6         HR Shokeen       5       3      1   43         25   21.50   \n",
      "7         JD Unadkat       5       5      2   59        19*   19.66   \n",
      "8          RG Sharma      14      14      0  268         48   19.14   \n",
      "9         KA Pollard      11      11      1  144         25   14.40   \n",
      "10          FA Allen       1       1      0    8          8    8.00   \n",
      "11  Anmolpreet Singh       2       2      0   13          8    6.50   \n",
      "12           DR Sams      11      10      3   38         15    5.42   \n",
      "13          M Ashwin       8       5      2   12          6    4.00   \n",
      "14       K Kartikeya       4       1      0    3          3    3.00   \n",
      "15          T Stubbs       2       2      0    2          2    1.00   \n",
      "16          TS Mills       5       2      1    0         0*    0.00   \n",
      "17    R Sanjay Yadav       1       1      0    0          0    0.00   \n",
      "18         JJ Bumrah      14       6      4    0         0*    0.00   \n",
      "19       RP Meredith       8       1      1    0         0*       -   \n",
      "20      Basil Thampi       5       -      -    -          -       -   \n",
      "21        M Markande       2       -      -    -          -       -   \n",
      "\n",
      "   Ball Faced Strike Rate Hundred Fifty Zero Four Sixes  \n",
      "0         208      145.67       0     3    0   23    16  \n",
      "1          86      216.27       0     0    0   12    16  \n",
      "2         303      131.02       0     2    1   29    16  \n",
      "3         348      120.11       0     3    1   45    11  \n",
      "4         113      142.47       0     0    0   14    11  \n",
      "5          40      112.50       0     0    0    3     1  \n",
      "6          48       89.58       0     0    0    5     0  \n",
      "7          37      159.45       0     0    0    4     3  \n",
      "8         223      120.17       0     0    1   28    13  \n",
      "9         134      107.46       0     0    1    6     9  \n",
      "10          7      114.28       0     0    0    1     0  \n",
      "11         13      100.00       0     0    0    1     0  \n",
      "12         36      105.55       0     0    2    1     3  \n",
      "13         14       85.71       0     0    1    1     1  \n",
      "14          5       60.00       0     0    0    0     0  \n",
      "15          4       50.00       0     0    1    0     0  \n",
      "16          3        0.00       0     0    1    0     0  \n",
      "17          2        0.00       0     0    1    0     0  \n",
      "18          8        0.00       0     0    2    0     0  \n",
      "19          1        0.00       0     0    0    0     0  \n",
      "20          -           -       -     -    -    -     -  \n",
      "21          -           -       -     -    -    -     -  \n"
     ]
    }
   ],
   "source": [
    "# Printing dataframe\n",
    "print(df)  "
   ]
  },
  {
   "cell_type": "code",
   "execution_count": 8,
   "id": "d6aeeb99",
   "metadata": {},
   "outputs": [],
   "source": [
    "# Storing to MI-2022.csv file.\n",
    "df.to_csv('MI-2022.csv')"
   ]
  }
 ],
 "metadata": {
  "kernelspec": {
   "display_name": "Python 3 (ipykernel)",
   "language": "python",
   "name": "python3"
  },
  "language_info": {
   "codemirror_mode": {
    "name": "ipython",
    "version": 3
   },
   "file_extension": ".py",
   "mimetype": "text/x-python",
   "name": "python",
   "nbconvert_exporter": "python",
   "pygments_lexer": "ipython3",
   "version": "3.9.7"
  }
 },
 "nbformat": 4,
 "nbformat_minor": 5
}
