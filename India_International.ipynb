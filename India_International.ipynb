{
 "cells": [
  {
   "cell_type": "markdown",
   "id": "2314e1d0",
   "metadata": {},
   "source": [
    "**Web Scrapping of ESPN Cricinfo**"
   ]
  },
  {
   "cell_type": "markdown",
   "id": "0f460dac",
   "metadata": {},
   "source": [
    "This Notebook shows simplest way to scrape data from ESPN cricinfo website. https://www.espncricinfo.com/"
   ]
  },
  {
   "cell_type": "markdown",
   "id": "c802ea4a",
   "metadata": {},
   "source": [
    "By using this script we can scrape data of any teams on this website. This is example is to get International runs by Indians in Test Matches. It can be used for any international teams."
   ]
  },
  {
   "cell_type": "code",
   "execution_count": 1,
   "id": "c884192f",
   "metadata": {},
   "outputs": [],
   "source": [
    "# Importing libraries\n",
    "import requests\n",
    "from bs4 import BeautifulSoup\n",
    "import pandas as pd\n",
    "import re\n",
    "import datetime"
   ]
  },
  {
   "cell_type": "code",
   "execution_count": 2,
   "id": "0baf014f",
   "metadata": {},
   "outputs": [
    {
     "name": "stdout",
     "output_type": "stream",
     "text": [
      "<Response [200]>\n"
     ]
    }
   ],
   "source": [
    "header = {'User-Agent': 'Mozilla/5.0 (Macintosh; Intel Mac OS X 10_11_5) AppleWebKit/537.36 (KHTML, like Gecko) Chrome/50.0.2661.102 Safari/537.36'}\n",
    "page = requests.get(\"https://stats.espncricinfo.com/ci/engine/records/batting/most_runs_career.html?class=1;id=6;type=team\",headers=header)\n",
    "print(page) #Response 200 means page is successfully connected"
   ]
  },
  {
   "cell_type": "code",
   "execution_count": 3,
   "id": "2d528f4c",
   "metadata": {},
   "outputs": [],
   "source": [
    "soup = BeautifulSoup(page.text, 'html.parser')\n",
    "\n",
    "tab = soup.find('table', class_ = 'engineTable') #Finding table named as 'engineTable'"
   ]
  },
  {
   "cell_type": "code",
   "execution_count": 4,
   "id": "7cacec31",
   "metadata": {},
   "outputs": [],
   "source": [
    "# Creating a lists\n",
    "player=[]\n",
    "span=[]\n",
    "mat=[]\n",
    "inns=[]\n",
    "no=[]\n",
    "runs=[]\n",
    "hs=[]\n",
    "avg=[]\n",
    "hun=[]\n",
    "fifty=[]\n",
    "zero=[]\n",
    "bsr=[]\n",
    "four=[]\n",
    "five=[]\n",
    "catches=[]\n",
    "st=[]"
   ]
  },
  {
   "cell_type": "code",
   "execution_count": 5,
   "id": "3fb41375",
   "metadata": {},
   "outputs": [],
   "source": [
    "# Finding data using tab named 'tbody'\n",
    "for i in tab.find_all('tbody'):\n",
    "    rows = i.find_all('tr')\n",
    "    for row in rows: \n",
    "        player.append(row.find_all('td')[0].text) #Getting Player name\n",
    "        span.append(row.find_all('td')[1].text) #Getting Player span for playing for India\n",
    "        mat.append(row.find_all('td')[2].text) #Getting Total Matches\n",
    "        inns.append(row.find_all('td')[3].text) #Getting Total Innings\n",
    "        no.append(row.find_all('td')[4].text) #Getting Total Not Out\n",
    "        runs.append(row.find_all('td')[5].text) #Getting Total Runs\n",
    "        hs.append(row.find_all('td')[6].text) #Getting High Score\n",
    "        avg.append(row.find_all('td')[7].text) #Getting Average\n",
    "        hun.append(row.find_all('td')[8].text) #Getting Total Hundred\n",
    "        fifty.append(row.find_all('td')[9].text) #Getting Total Fifty\n",
    "        zero.append(row.find_all('td')[10].text) #Getting Total Zero"
   ]
  },
  {
   "cell_type": "code",
   "execution_count": 6,
   "id": "aa8b2693",
   "metadata": {},
   "outputs": [],
   "source": [
    "# Storing data in dataframe\n",
    "df = pd.DataFrame({'Player':player,'Span':span,'Matches':mat,'Innings':inns,'Not Out':no,'Runs':runs,'High Score':hs,\n",
    "                   'Average':avg,'100':hun, '50':fifty,'0':zero})"
   ]
  },
  {
   "cell_type": "code",
   "execution_count": 7,
   "id": "ef130b9e",
   "metadata": {},
   "outputs": [],
   "source": [
    "df.insert(0, 'Rank', range(1, 1 + len(df))) #Ranking batsman \n",
    "df.set_index('Rank',inplace=True) # Setting Index to 'Rank' column"
   ]
  },
  {
   "cell_type": "code",
   "execution_count": 8,
   "id": "9e3d3388",
   "metadata": {},
   "outputs": [
    {
     "name": "stdout",
     "output_type": "stream",
     "text": [
      "               Player       Span Matches Innings Not Out   Runs High Score  \\\n",
      "Rank                                                                         \n",
      "1        SR Tendulkar  1989-2013     200     329      33  15921       248*   \n",
      "2            R Dravid  1996-2012     163     284      32  13265        270   \n",
      "3         SM Gavaskar  1971-1987     125     214      16  10122       236*   \n",
      "4          VVS Laxman  1996-2012     134     225      34   8781        281   \n",
      "5            V Sehwag  2001-2013     103     178       6   8503        319   \n",
      "6             V Kohli  2011-2022     102     173      10   8074       254*   \n",
      "7          SC Ganguly  1996-2008     113     188      17   7212        239   \n",
      "8       DB Vengsarkar  1976-1992     116     185      22   6868        166   \n",
      "9           CA Pujara  2010-2022      96     164       9   6792       206*   \n",
      "10       M Azharuddin  1984-2000      99     147       9   6215        199   \n",
      "11       GR Viswanath  1969-1983      91     155      10   6080        222   \n",
      "12        N Kapil Dev  1978-1994     131     184      15   5248        163   \n",
      "13          AM Rahane  2013-2022      82     140      12   4931        188   \n",
      "14           MS Dhoni  2005-2014      90     144      16   4876        224   \n",
      "15         M Amarnath  1969-1988      69     113      10   4378        138   \n",
      "16          G Gambhir  2004-2016      58     104       5   4154        206   \n",
      "17            M Vijay  2008-2018      61     105       1   3982        167   \n",
      "18         RJ Shastri  1981-1992      80     121      14   3830        206   \n",
      "19         PR Umrigar  1948-1962      59      94       8   3631        223   \n",
      "20       VL Manjrekar  1951-1965      55      92      10   3208       189*   \n",
      "21           NS Sidhu  1983-1999      51      78       2   3202        201   \n",
      "22          RG Sharma  2013-2022      45      77       9   3137        212   \n",
      "23           CG Borde  1958-1969      55      97      11   3061       177*   \n",
      "24           R Ashwin  2011-2022      86     123      14   2931        124   \n",
      "25        MAK Pataudi  1961-1975      46      83       3   2793       203*   \n",
      "26        SMH Kirmani  1976-1986      88     124      22   2759        102   \n",
      "27        FM Engineer  1961-1975      46      87       3   2611        121   \n",
      "28           KL Rahul  2014-2022      43      74       2   2547        199   \n",
      "29          RA Jadeja  2012-2022      60      89      20   2523       175*   \n",
      "30           A Kumble  1990-2008     132     173      32   2506       110*   \n",
      "31              P Roy  1951-1960      43      79       4   2442        173   \n",
      "32           S Dhawan  2013-2018      34      58       1   2315        190   \n",
      "33    Harbhajan Singh  1998-2015     103     145      23   2224        115   \n",
      "34          VS Hazare  1946-1953      30      52       6   2192       164*   \n",
      "35            RR Pant  2018-2022      31      53       4   2123       159*   \n",
      "36         AL Wadekar  1966-1974      37      71       3   2113        143   \n",
      "37          MH Mankad  1946-1959      44      72       5   2109        231   \n",
      "38        CPS Chauhan  1969-1981      40      68       2   2084         97   \n",
      "39        K Srikkanth  1981-1992      43      72       3   2062        123   \n",
      "40        ML Jaisimha  1959-1971      39      71       4   2056        129   \n",
      "41       SV Manjrekar  1987-1996      37      61       6   2043        218   \n",
      "42        DN Sardesai  1961-1972      30      55       4   2001        212   \n",
      "43         AD Gaekwad  1974-1985      40      70       4   1985        201   \n",
      "44           W Jaffer  2000-2008      31      58       1   1944        212   \n",
      "45       Yuvraj Singh  2003-2012      40      62       6   1900        169   \n",
      "46      NJ Contractor  1955-1962      31      52       1   1611        108   \n",
      "47     Yashpal Sharma  1979-1983      37      59      11   1606        140   \n",
      "48        M Prabhakar  1984-1995      39      58       9   1600        120   \n",
      "49           SM Patil  1980-1984      29      47       4   1588        174   \n",
      "50         MA Agarwal  2018-2022      21      36       0   1488        243   \n",
      "\n",
      "     Average 100  50   0  \n",
      "Rank                      \n",
      "1      53.78  51  68  14  \n",
      "2      52.63  36  63   7  \n",
      "3      51.12  34  45  12  \n",
      "4      45.97  17  56  14  \n",
      "5      49.43  23  31  16  \n",
      "6      49.53  27  28  14  \n",
      "7      42.17  16  35  13  \n",
      "8      42.13  17  35  15  \n",
      "9      43.81  18  33  11  \n",
      "10     45.03  22  21   5  \n",
      "11     41.93  14  35  10  \n",
      "12     31.05   8  27  16  \n",
      "13     38.52  12  25  10  \n",
      "14     38.09   6  33  10  \n",
      "15     42.50  11  24  12  \n",
      "16     41.95   9  22   7  \n",
      "17     38.28  12  15   8  \n",
      "18     35.79  11  12   9  \n",
      "19     42.22  12  14   5  \n",
      "20     39.12   7  15  11  \n",
      "21     42.13   9  15   9  \n",
      "22     46.13   8  14   4  \n",
      "23     35.59   5  18  13  \n",
      "24     26.88   5  12   6  \n",
      "25     34.91   6  16   7  \n",
      "26     27.04   2  12   7  \n",
      "27     31.08   2  16   7  \n",
      "28     35.37   7  13   7  \n",
      "29     36.56   3  17   5  \n",
      "30     17.77   1   5  17  \n",
      "31     32.56   5   9  14  \n",
      "32     40.61   7   5   4  \n",
      "33     18.22   2   9  19  \n",
      "34     47.65   7   9   4  \n",
      "35     43.32   5  10   2  \n",
      "36     31.07   1  14   7  \n",
      "37     31.47   5   6   7  \n",
      "38     31.57   0  16   6  \n",
      "39     29.88   2  12   7  \n",
      "40     30.68   3  12   9  \n",
      "41     37.14   4   9   3  \n",
      "42     39.23   5   9   4  \n",
      "43     30.07   2  10   4  \n",
      "44     34.10   5  11   6  \n",
      "45     33.92   3  11   7  \n",
      "46     31.58   1  11   2  \n",
      "47     33.45   2   9   4  \n",
      "48     32.65   1   9   3  \n",
      "49     36.93   4   7   4  \n",
      "50     41.33   4   6   1  \n"
     ]
    }
   ],
   "source": [
    "print(df) # Printing dataframe"
   ]
  },
  {
   "cell_type": "code",
   "execution_count": 9,
   "id": "4c3e32bb",
   "metadata": {},
   "outputs": [],
   "source": [
    "# Storing to India.csv file.\n",
    "df.to_csv('India.csv', index=False) "
   ]
  }
 ],
 "metadata": {
  "kernelspec": {
   "display_name": "Python 3 (ipykernel)",
   "language": "python",
   "name": "python3"
  },
  "language_info": {
   "codemirror_mode": {
    "name": "ipython",
    "version": 3
   },
   "file_extension": ".py",
   "mimetype": "text/x-python",
   "name": "python",
   "nbconvert_exporter": "python",
   "pygments_lexer": "ipython3",
   "version": "3.9.7"
  }
 },
 "nbformat": 4,
 "nbformat_minor": 5
}
